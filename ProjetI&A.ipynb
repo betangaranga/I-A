{
 "cells": [
  {
   "cell_type": "code",
   "execution_count": 3,
   "metadata": {},
   "outputs": [],
   "source": [
    "import os\n",
    "os.chdir('/home/angel/Downloads/ProjetI&A')"
   ]
  },
  {
   "cell_type": "markdown",
   "metadata": {},
   "source": [
    "First of all we import the libraries which will help us building the cnn, the first two are for building the neural network while the two left will help for the convolution part"
   ]
  },
  {
   "cell_type": "code",
   "execution_count": 2,
   "metadata": {},
   "outputs": [
    {
     "name": "stderr",
     "output_type": "stream",
     "text": [
      "Using TensorFlow backend.\n"
     ]
    }
   ],
   "source": [
    "from keras.models import Sequential\n",
    "from keras.layers import Dense\n",
    "from keras.layers import Conv2D\n",
    "from keras.layers import MaxPooling2D\n",
    "from keras.layers import Flatten"
   ]
  },
  {
   "cell_type": "markdown",
   "metadata": {},
   "source": [
    "Now we initialize our neural network"
   ]
  },
  {
   "cell_type": "code",
   "execution_count": 3,
   "metadata": {},
   "outputs": [],
   "source": [
    "classifier=Sequential()"
   ]
  },
  {
   "cell_type": "markdown",
   "metadata": {},
   "source": [
    "we have 32 features dectectors and each detector have a 3x3 size\n",
    "relu is used to remove the linearity, we need to specify the format of images (64x64 pixels + RGB channels)\n",
    "stride default value is 1"
   ]
  },
  {
   "cell_type": "code",
   "execution_count": 4,
   "metadata": {},
   "outputs": [],
   "source": [
    "classifier.add(Conv2D(32,kernel_size=(3,3),activation='relu',input_shape=(64,64,3)))"
   ]
  },
  {
   "cell_type": "markdown",
   "metadata": {},
   "source": [
    "The default value of the stride is 2\n",
    "Goal : reduce the size of the feature maps in order to reduce the processing while keeping the important info (features)"
   ]
  },
  {
   "cell_type": "code",
   "execution_count": 5,
   "metadata": {},
   "outputs": [],
   "source": [
    "classifier.add(MaxPooling2D(pool_size=(2,2)))"
   ]
  },
  {
   "cell_type": "markdown",
   "metadata": {},
   "source": [
    "We add another layer to our cnn"
   ]
  },
  {
   "cell_type": "code",
   "execution_count": 6,
   "metadata": {},
   "outputs": [],
   "source": [
    "classifier.add(Conv2D(32,kernel_size=(3,3),activation='relu'))\n",
    "classifier.add(MaxPooling2D(pool_size=(2,2)))"
   ]
  },
  {
   "cell_type": "markdown",
   "metadata": {},
   "source": [
    "As the name of this step implies, we are literally going to flatten our pooled feature map into a column like in the image below."
   ]
  },
  {
   "cell_type": "code",
   "execution_count": 7,
   "metadata": {},
   "outputs": [],
   "source": [
    "classifier.add(Flatten())"
   ]
  },
  {
   "cell_type": "markdown",
   "metadata": {},
   "source": [
    "We build our typical artificial neural network (Ann)"
   ]
  },
  {
   "cell_type": "code",
   "execution_count": 8,
   "metadata": {},
   "outputs": [],
   "source": [
    "classifier.add(Dense(units=128,activation='relu'))\n",
    "classifier.add(Dense(units=1,activation='sigmoid'))"
   ]
  },
  {
   "cell_type": "markdown",
   "metadata": {},
   "source": [
    "Now it's time to compile our cnn"
   ]
  },
  {
   "cell_type": "code",
   "execution_count": 9,
   "metadata": {},
   "outputs": [],
   "source": [
    "classifier.compile(optimizer='adam',loss='binary_crossentropy',metrics=['accuracy'])"
   ]
  },
  {
   "cell_type": "code",
   "execution_count": 96,
   "metadata": {},
   "outputs": [],
   "source": [
    "from keras.preprocessing.image import ImageDataGenerator"
   ]
  },
  {
   "cell_type": "code",
   "execution_count": 97,
   "metadata": {
    "scrolled": false
   },
   "outputs": [
    {
     "name": "stdout",
     "output_type": "stream",
     "text": [
      "Found 162080 images belonging to 2 classes.\n",
      "Found 40520 images belonging to 2 classes.\n"
     ]
    }
   ],
   "source": [
    "train_datagen = ImageDataGenerator(\n",
    "        rescale=1./255,\n",
    "        shear_range=0.2,\n",
    "        zoom_range=0.2,\n",
    "        horizontal_flip=True)\n",
    "\n",
    "test_datagen = ImageDataGenerator(rescale=1./255)\n",
    "\n",
    "training_set = train_datagen.flow_from_directory(\n",
    "        'Train',\n",
    "        target_size=(64, 64),\n",
    "        batch_size=32,\n",
    "        class_mode='binary')\n",
    "\n",
    "test_set = test_datagen.flow_from_directory(\n",
    "        'Test',\n",
    "        target_size=(64, 64),\n",
    "        batch_size=32,\n",
    "        class_mode='binary')\n",
    "\n",
    "classifier.fit_generator(\n",
    "        training_set,\n",
    "        steps_per_epoch=(162080/32),\n",
    "        epochs=5,\n",
    "        validation_data=test_set,\n",
    "        validation_steps=(40520/32))"
   ]
  },
  {
   "cell_type": "code",
   "execution_count": 12,
   "metadata": {},
   "outputs": [],
   "source": [
    "classifier.save('my_CelebA_model.h5')"
   ]
  },
  {
   "cell_type": "code",
   "execution_count": 4,
   "metadata": {},
   "outputs": [],
   "source": [
    "from keras.models import load_model\n",
    "model = load_model('my_CelebA_model.h5')"
   ]
  },
  {
   "cell_type": "code",
   "execution_count": 14,
   "metadata": {},
   "outputs": [
    {
     "name": "stdout",
     "output_type": "stream",
     "text": [
      "000006.jpg     h.jpeg\t\t\t\ttest3.jpg\r\n",
      "000013.jpg     img_align_celeba\t\t\ttest4.jpg\r\n",
      "000015.jpg     img_align_celeba.zip\t\ttest.jpg\r\n",
      "000017.jpg     list_attr_celeba.csv\t\tT.jpg\r\n",
      "000018.jpg     list_bbox_celeba.csv\t\tTrain\r\n",
      "000021.jpg     list_eval_partition.csv\t\tx_test_non.csv\r\n",
      "000024.jpg     list_landmarks_align_celeba.csv\tx_test_oui.csv\r\n",
      "000029.jpg     my_CelebA_model.h5\t\tx_train_non.csv\r\n",
      "001736.jpg     si.jpg\t\t\t\tx_train_oui.csv\r\n",
      "angel_con.jpg  Test\r\n",
      "angel_sin.jpg  test2.jpg\r\n"
     ]
    }
   ],
   "source": [
    "model.summary()"
   ]
  },
  {
   "cell_type": "code",
   "execution_count": 25,
   "metadata": {},
   "outputs": [],
   "source": [
    "tff,tfv,tvv,tvf=0,0,0,0"
   ]
  },
  {
   "cell_type": "code",
   "execution_count": 26,
   "metadata": {},
   "outputs": [],
   "source": [
    "import glob\n",
    "list_absence=glob.glob(\"/home/angel/Downloads/ProjetI&A/Test/Absence_of_feature/*.jpg\")\n",
    "list_presence=glob.glob(\"/home/angel/Downloads/ProjetI&A/Test/Presence_of_feature/*.jpg\")"
   ]
  },
  {
   "cell_type": "code",
   "execution_count": 27,
   "metadata": {},
   "outputs": [
    {
     "ename": "NameError",
     "evalue": "name 'training_set' is not defined",
     "output_type": "error",
     "traceback": [
      "\u001b[0;31m---------------------------------------------------------------------------\u001b[0m",
      "\u001b[0;31mNameError\u001b[0m                                 Traceback (most recent call last)",
      "\u001b[0;32m<ipython-input-27-4b20e281d7d3>\u001b[0m in \u001b[0;36m<module>\u001b[0;34m()\u001b[0m\n\u001b[0;32m----> 1\u001b[0;31m \u001b[0mtraining_set\u001b[0m\u001b[0;34m.\u001b[0m\u001b[0mclass_indices\u001b[0m\u001b[0;34m\u001b[0m\u001b[0m\n\u001b[0m",
      "\u001b[0;31mNameError\u001b[0m: name 'training_set' is not defined"
     ]
    }
   ],
   "source": [
    "training_set.class_indices"
   ]
  },
  {
   "cell_type": "code",
   "execution_count": 28,
   "metadata": {},
   "outputs": [],
   "source": [
    "#Getting the Confusion Matrix\n",
    "from keras.preprocessing import image\n",
    "import numpy as np\n",
    "for img in list_absence:\n",
    "    imge = image.load_img(img, target_size=(64, 64))\n",
    "    x = image.img_to_array(imge)\n",
    "    x = np.expand_dims(x, axis=0)\n",
    "    images = np.vstack([x])\n",
    "    classes = model.predict_classes(images, batch_size=10)\n",
    "    if classes[0][0]==0:\n",
    "        tff=tff+1\n",
    "    else:\n",
    "        tfv=tfv+1"
   ]
  },
  {
   "cell_type": "code",
   "execution_count": 145,
   "metadata": {},
   "outputs": [],
   "source": [
    "abse=[]\n",
    "for img in list_presence:\n",
    "    imge = image.load_img(img, target_size=(64, 64))\n",
    "    x = image.img_to_array(imge)\n",
    "    x = np.expand_dims(x, axis=0)\n",
    "    abse.append(x)\n",
    "    images = np.vstack([x])\n",
    "    classes = model.predict_classes(images, batch_size=10)\n",
    "    if classes[0][0]==1:\n",
    "        tvv=tvv+1\n",
    "    else:\n",
    "        tvf=tvf+1"
   ]
  },
  {
   "cell_type": "code",
   "execution_count": 67,
   "metadata": {},
   "outputs": [
    {
     "data": {
      "text/plain": [
       "568"
      ]
     },
     "execution_count": 67,
     "metadata": {},
     "output_type": "execute_result"
    }
   ],
   "source": [
    "##FALSE NEGATIVES\n",
    "tfv"
   ]
  },
  {
   "cell_type": "code",
   "execution_count": 68,
   "metadata": {},
   "outputs": [
    {
     "data": {
      "text/plain": [
       "16568"
      ]
     },
     "execution_count": 68,
     "metadata": {},
     "output_type": "execute_result"
    }
   ],
   "source": [
    "##TRUE POSITIVES\n",
    "tvv"
   ]
  },
  {
   "cell_type": "code",
   "execution_count": 32,
   "metadata": {},
   "outputs": [
    {
     "data": {
      "text/plain": [
       "175"
      ]
     },
     "execution_count": 32,
     "metadata": {},
     "output_type": "execute_result"
    }
   ],
   "source": [
    "##FALSE POSITIVES\n",
    "tvf"
   ]
  },
  {
   "cell_type": "code",
   "execution_count": 6,
   "metadata": {},
   "outputs": [
    {
     "name": "stdout",
     "output_type": "stream",
     "text": [
      "000006.jpg     h.jpeg\t\t\t\ttest3.jpg\r\n",
      "000013.jpg     img_align_celeba\t\t\ttest4.jpg\r\n",
      "000015.jpg     img_align_celeba.zip\t\ttest.jpg\r\n",
      "000017.jpg     list_attr_celeba.csv\t\tT.jpg\r\n",
      "000018.jpg     list_bbox_celeba.csv\t\tTrain\r\n",
      "000021.jpg     list_eval_partition.csv\t\tx_test_non.csv\r\n",
      "000024.jpg     list_landmarks_align_celeba.csv\tx_test_oui.csv\r\n",
      "000029.jpg     my_CelebA_model.h5\t\tx_train_non.csv\r\n",
      "001736.jpg     si.jpg\t\t\t\tx_train_oui.csv\r\n",
      "angel_con.jpg  Test\r\n",
      "angel_sin.jpg  test2.jpg\r\n"
     ]
    }
   ],
   "source": [
    "##TRUE NEGATIVES\n",
    "!tff"
   ]
  },
  {
   "cell_type": "code",
   "execution_count": 54,
   "metadata": {},
   "outputs": [
    {
     "name": "stdout",
     "output_type": "stream",
     "text": [
      "yes\n"
     ]
    }
   ],
   "source": [
    "#testing the model with an image from outside the given dataset\n",
    "imge = image.load_img(\"angel_sin.jpg\", target_size=(64, 64))\n",
    "x = image.img_to_array(imge)\n",
    "x = np.expand_dims(x, axis=0)\n",
    "images = np.vstack([x])\n",
    "classes = model.predict_classes(images, batch_size=10)\n",
    "if classes[0][0]==1:\n",
    "    print(\"yes\")\n",
    "else:\n",
    "    print(\"no\")"
   ]
  },
  {
   "cell_type": "code",
   "execution_count": 158,
   "metadata": {},
   "outputs": [
    {
     "data": {
      "text/plain": [
       "Text(0.5,0,'Is using glasses 100%')"
      ]
     },
     "execution_count": 158,
     "metadata": {},
     "output_type": "execute_result"
    },
    {
     "data": {
      "image/png": "[encoded data removed]",
      "text/plain": [
       "<Figure size 432x288 with 1 Axes>"
      ]
     },
     "metadata": {},
     "output_type": "display_data"
    }
   ],
   "source": [
    "#Plotting some images from Test dataset\n",
    "imge = image.load_img(\"001096.jpg\", target_size=(64, 64))\n",
    "x = image.img_to_array(imge)\n",
    "x = np.expand_dims(x, axis=0)\n",
    "img = np.vstack([x])\n",
    "plt.grid(False)\n",
    "plt.xticks([])\n",
    "plt.yticks([])\n",
    "plt.imshow(imge,cmap=plt.cm.binary)\n",
    "images = np.vstack([x])\n",
    "classes = model.predict_classes(images, batch_size=10)\n",
    "prob=model.predict(images)\n",
    "if classes[0][0]==1:\n",
    "    res=\"Is using glasses\"\n",
    "    color='blue'\n",
    "else:\n",
    "    res=\"Is not using glasses\"\n",
    "    color='red'\n",
    "plt.xlabel(\"{} {:2.0f}%\".format(res,100*np.max(prob)),color=color)\n"
   ]
  },
  {
   "cell_type": "code",
   "execution_count": 159,
   "metadata": {},
   "outputs": [
    {
     "data": {
      "text/plain": [
       "Text(0.5,0,'Is using glasses 100%')"
      ]
     },
     "execution_count": 159,
     "metadata": {},
     "output_type": "execute_result"
    },
    {
     "data": {
      "image/png": "[encoded data removed]",
      "text/plain": [
       "<Figure size 432x288 with 1 Axes>"
      ]
     },
     "metadata": {},
     "output_type": "display_data"
    }
   ],
   "source": [
    "imge = image.load_img(\"001052.jpg\", target_size=(64, 64))\n",
    "x = image.img_to_array(imge)\n",
    "x = np.expand_dims(x, axis=0)\n",
    "img = np.vstack([x])\n",
    "plt.grid(False)\n",
    "plt.xticks([])\n",
    "plt.yticks([])\n",
    "plt.imshow(imge,cmap=plt.cm.binary)\n",
    "images = np.vstack([x])\n",
    "classes = model.predict_classes(images, batch_size=10)\n",
    "prob=model.predict(images)\n",
    "if classes[0][0]==1:\n",
    "    res=\"Is using glasses\"\n",
    "    color='blue'\n",
    "else:\n",
    "    res=\"Is not using glasses\"\n",
    "    color='red'\n",
    "plt.xlabel(\"{} {:2.0f}%\".format(res,100*np.max(prob)),color=color)"
   ]
  },
  {
   "cell_type": "code",
   "execution_count": 160,
   "metadata": {},
   "outputs": [
    {
     "data": {
      "text/plain": [
       "Text(0.5,0,'Is using glasses 100%')"
      ]
     },
     "execution_count": 160,
     "metadata": {},
     "output_type": "execute_result"
    },
    {
     "data": {
      "image/png": "[encoded data removed]",
      "text/plain": [
       "<Figure size 432x288 with 1 Axes>"
      ]
     },
     "metadata": {},
     "output_type": "display_data"
    }
   ],
   "source": [
    "imge = image.load_img(\"001736.jpg\", target_size=(64, 64))\n",
    "x = image.img_to_array(imge)\n",
    "x = np.expand_dims(x, axis=0)\n",
    "img = np.vstack([x])\n",
    "plt.grid(False)\n",
    "plt.xticks([])\n",
    "plt.yticks([])\n",
    "plt.imshow(imge,cmap=plt.cm.binary)\n",
    "images = np.vstack([x])\n",
    "classes = model.predict_classes(images, batch_size=10)\n",
    "prob=model.predict(images)\n",
    "if classes[0][0]==1:\n",
    "    res=\"Is using glasses\"\n",
    "    color='blue'\n",
    "else:\n",
    "    res=\"Is not using glasses\"\n",
    "    color='red'\n",
    "plt.xlabel(\"{} {:2.0f}%\".format(res,100*np.max(prob)),color=color)"
   ]
  },
  {
   "cell_type": "code",
   "execution_count": 161,
   "metadata": {},
   "outputs": [
    {
     "data": {
      "text/plain": [
       "Text(0.5,0,'Is using glasses 100%')"
      ]
     },
     "execution_count": 161,
     "metadata": {},
     "output_type": "execute_result"
    },
    {
     "data": {
      "image/png": "[encoded data removed]",
      "text/plain": [
       "<Figure size 432x288 with 1 Axes>"
      ]
     },
     "metadata": {},
     "output_type": "display_data"
    }
   ],
   "source": [
    "imge = image.load_img(\"000958.jpg\", target_size=(64, 64))\n",
    "x = image.img_to_array(imge)\n",
    "x = np.expand_dims(x, axis=0)\n",
    "img = np.vstack([x])\n",
    "plt.grid(False)\n",
    "plt.xticks([])\n",
    "plt.yticks([])\n",
    "plt.imshow(imge,cmap=plt.cm.binary)\n",
    "images = np.vstack([x])\n",
    "classes = model.predict_classes(images, batch_size=10)\n",
    "prob=model.predict(images)\n",
    "if classes[0][0]==1:\n",
    "    res=\"Is using glasses\"\n",
    "    color='blue'\n",
    "else:\n",
    "    res=\"Is not using glasses\"\n",
    "    color='red'\n",
    "plt.xlabel(\"{} {:2.0f}%\".format(res,100*np.max(prob)),color=color)"
   ]
  }
 ],
 "metadata": {
  "kernelspec": {
   "display_name": "Python 2",
   "language": "python",
   "name": "python2"
  },
  "language_info": {
   "codemirror_mode": {
    "name": "ipython",
    "version": 2
   },
   "file_extension": ".py",
   "mimetype": "text/x-python",
   "name": "python",
   "nbconvert_exporter": "python",
   "pygments_lexer": "ipython2",
   "version": "2.7.16"
  }
 },
 "nbformat": 4,
 "nbformat_minor": 2
}
